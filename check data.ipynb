{
 "cells": [
  {
   "cell_type": "code",
   "execution_count": 9,
   "metadata": {},
   "outputs": [],
   "source": [
    "import pandas as pd"
   ]
  },
  {
   "cell_type": "code",
   "execution_count": 10,
   "metadata": {},
   "outputs": [
    {
     "data": {
      "text/html": [
       "<div>\n",
       "<style scoped>\n",
       "    .dataframe tbody tr th:only-of-type {\n",
       "        vertical-align: middle;\n",
       "    }\n",
       "\n",
       "    .dataframe tbody tr th {\n",
       "        vertical-align: top;\n",
       "    }\n",
       "\n",
       "    .dataframe thead th {\n",
       "        text-align: right;\n",
       "    }\n",
       "</style>\n",
       "<table border=\"1\" class=\"dataframe\">\n",
       "  <thead>\n",
       "    <tr style=\"text-align: right;\">\n",
       "      <th></th>\n",
       "      <th>Unnamed: 0</th>\n",
       "      <th>Hard work</th>\n",
       "      <th>Hard work based rank</th>\n",
       "      <th>Hard work based result</th>\n",
       "      <th>Luck</th>\n",
       "      <th>Score [Hard work + luck]</th>\n",
       "      <th>Luck based rank</th>\n",
       "      <th>Luck based result</th>\n",
       "      <th>Luck and Hard work</th>\n",
       "    </tr>\n",
       "  </thead>\n",
       "  <tbody>\n",
       "    <tr>\n",
       "      <th>0</th>\n",
       "      <td>0</td>\n",
       "      <td>110.912653</td>\n",
       "      <td>5425.0</td>\n",
       "      <td>False</td>\n",
       "      <td>125.723739</td>\n",
       "      <td>111.653208</td>\n",
       "      <td>4963.0</td>\n",
       "      <td>False</td>\n",
       "      <td>False</td>\n",
       "    </tr>\n",
       "    <tr>\n",
       "      <th>1</th>\n",
       "      <td>1</td>\n",
       "      <td>109.864080</td>\n",
       "      <td>5728.0</td>\n",
       "      <td>False</td>\n",
       "      <td>49.835177</td>\n",
       "      <td>106.862635</td>\n",
       "      <td>6611.0</td>\n",
       "      <td>False</td>\n",
       "      <td>False</td>\n",
       "    </tr>\n",
       "    <tr>\n",
       "      <th>2</th>\n",
       "      <td>2</td>\n",
       "      <td>68.785456</td>\n",
       "      <td>17196.0</td>\n",
       "      <td>False</td>\n",
       "      <td>134.667164</td>\n",
       "      <td>72.079542</td>\n",
       "      <td>16973.0</td>\n",
       "      <td>False</td>\n",
       "      <td>False</td>\n",
       "    </tr>\n",
       "    <tr>\n",
       "      <th>3</th>\n",
       "      <td>3</td>\n",
       "      <td>106.493721</td>\n",
       "      <td>6848.0</td>\n",
       "      <td>False</td>\n",
       "      <td>80.125588</td>\n",
       "      <td>105.175314</td>\n",
       "      <td>7249.0</td>\n",
       "      <td>False</td>\n",
       "      <td>False</td>\n",
       "    </tr>\n",
       "    <tr>\n",
       "      <th>4</th>\n",
       "      <td>4</td>\n",
       "      <td>84.234795</td>\n",
       "      <td>14348.0</td>\n",
       "      <td>False</td>\n",
       "      <td>74.392327</td>\n",
       "      <td>83.742672</td>\n",
       "      <td>14667.0</td>\n",
       "      <td>False</td>\n",
       "      <td>False</td>\n",
       "    </tr>\n",
       "    <tr>\n",
       "      <th>...</th>\n",
       "      <td>...</td>\n",
       "      <td>...</td>\n",
       "      <td>...</td>\n",
       "      <td>...</td>\n",
       "      <td>...</td>\n",
       "      <td>...</td>\n",
       "      <td>...</td>\n",
       "      <td>...</td>\n",
       "      <td>...</td>\n",
       "    </tr>\n",
       "    <tr>\n",
       "      <th>18295</th>\n",
       "      <td>18295</td>\n",
       "      <td>139.948781</td>\n",
       "      <td>394.0</td>\n",
       "      <td>False</td>\n",
       "      <td>122.783607</td>\n",
       "      <td>139.090522</td>\n",
       "      <td>333.0</td>\n",
       "      <td>False</td>\n",
       "      <td>False</td>\n",
       "    </tr>\n",
       "    <tr>\n",
       "      <th>18296</th>\n",
       "      <td>18296</td>\n",
       "      <td>130.016078</td>\n",
       "      <td>1205.0</td>\n",
       "      <td>False</td>\n",
       "      <td>54.333402</td>\n",
       "      <td>126.231944</td>\n",
       "      <td>1548.0</td>\n",
       "      <td>False</td>\n",
       "      <td>False</td>\n",
       "    </tr>\n",
       "    <tr>\n",
       "      <th>18297</th>\n",
       "      <td>18297</td>\n",
       "      <td>94.549808</td>\n",
       "      <td>11119.0</td>\n",
       "      <td>False</td>\n",
       "      <td>104.372941</td>\n",
       "      <td>95.040965</td>\n",
       "      <td>11035.0</td>\n",
       "      <td>False</td>\n",
       "      <td>False</td>\n",
       "    </tr>\n",
       "    <tr>\n",
       "      <th>18298</th>\n",
       "      <td>18298</td>\n",
       "      <td>126.927644</td>\n",
       "      <td>1636.0</td>\n",
       "      <td>False</td>\n",
       "      <td>86.145707</td>\n",
       "      <td>124.888547</td>\n",
       "      <td>1766.0</td>\n",
       "      <td>False</td>\n",
       "      <td>False</td>\n",
       "    </tr>\n",
       "    <tr>\n",
       "      <th>18299</th>\n",
       "      <td>18299</td>\n",
       "      <td>117.650453</td>\n",
       "      <td>3497.0</td>\n",
       "      <td>False</td>\n",
       "      <td>100.936396</td>\n",
       "      <td>116.814750</td>\n",
       "      <td>3498.0</td>\n",
       "      <td>False</td>\n",
       "      <td>False</td>\n",
       "    </tr>\n",
       "  </tbody>\n",
       "</table>\n",
       "<p>18300 rows × 9 columns</p>\n",
       "</div>"
      ],
      "text/plain": [
       "       Unnamed: 0   Hard work  Hard work based rank  Hard work based result  \\\n",
       "0               0  110.912653                5425.0                   False   \n",
       "1               1  109.864080                5728.0                   False   \n",
       "2               2   68.785456               17196.0                   False   \n",
       "3               3  106.493721                6848.0                   False   \n",
       "4               4   84.234795               14348.0                   False   \n",
       "...           ...         ...                   ...                     ...   \n",
       "18295       18295  139.948781                 394.0                   False   \n",
       "18296       18296  130.016078                1205.0                   False   \n",
       "18297       18297   94.549808               11119.0                   False   \n",
       "18298       18298  126.927644                1636.0                   False   \n",
       "18299       18299  117.650453                3497.0                   False   \n",
       "\n",
       "             Luck  Score [Hard work + luck]  Luck based rank  \\\n",
       "0      125.723739                111.653208           4963.0   \n",
       "1       49.835177                106.862635           6611.0   \n",
       "2      134.667164                 72.079542          16973.0   \n",
       "3       80.125588                105.175314           7249.0   \n",
       "4       74.392327                 83.742672          14667.0   \n",
       "...           ...                       ...              ...   \n",
       "18295  122.783607                139.090522            333.0   \n",
       "18296   54.333402                126.231944           1548.0   \n",
       "18297  104.372941                 95.040965          11035.0   \n",
       "18298   86.145707                124.888547           1766.0   \n",
       "18299  100.936396                116.814750           3498.0   \n",
       "\n",
       "       Luck based result  Luck and Hard work  \n",
       "0                  False               False  \n",
       "1                  False               False  \n",
       "2                  False               False  \n",
       "3                  False               False  \n",
       "4                  False               False  \n",
       "...                  ...                 ...  \n",
       "18295              False               False  \n",
       "18296              False               False  \n",
       "18297              False               False  \n",
       "18298              False               False  \n",
       "18299              False               False  \n",
       "\n",
       "[18300 rows x 9 columns]"
      ]
     },
     "execution_count": 10,
     "metadata": {},
     "output_type": "execute_result"
    }
   ],
   "source": [
    "database  = pd.read_csv(\"data.csv\")\n",
    "database"
   ]
  },
  {
   "cell_type": "code",
   "execution_count": 11,
   "metadata": {},
   "outputs": [
    {
     "data": {
      "text/plain": [
       "False    18289\n",
       "True        11\n",
       "Name: Luck and Hard work, dtype: int64"
      ]
     },
     "execution_count": 11,
     "metadata": {},
     "output_type": "execute_result"
    }
   ],
   "source": [
    "database[\"Luck and Hard work\"].value_counts()"
   ]
  },
  {
   "cell_type": "code",
   "execution_count": 12,
   "metadata": {},
   "outputs": [
    {
     "data": {
      "text/plain": [
       "False    18289\n",
       "True        11\n",
       "Name: Luck based result, dtype: int64"
      ]
     },
     "execution_count": 12,
     "metadata": {},
     "output_type": "execute_result"
    }
   ],
   "source": [
    "database[\"Luck based result\"].value_counts()"
   ]
  },
  {
   "cell_type": "code",
   "execution_count": 15,
   "metadata": {},
   "outputs": [
    {
     "data": {
      "text/plain": [
       "False    18289\n",
       "True        11\n",
       "Name: Hard work based result, dtype: int64"
      ]
     },
     "execution_count": 15,
     "metadata": {},
     "output_type": "execute_result"
    }
   ],
   "source": [
    "database[\"Hard work based result\"].value_counts()"
   ]
  },
  {
   "cell_type": "code",
   "execution_count": null,
   "metadata": {},
   "outputs": [],
   "source": []
  }
 ],
 "metadata": {
  "kernelspec": {
   "display_name": "Python 3",
   "language": "python",
   "name": "python3"
  },
  "language_info": {
   "codemirror_mode": {
    "name": "ipython",
    "version": 3
   },
   "file_extension": ".py",
   "mimetype": "text/x-python",
   "name": "python",
   "nbconvert_exporter": "python",
   "pygments_lexer": "ipython3",
   "version": "3.7.6"
  }
 },
 "nbformat": 4,
 "nbformat_minor": 4
}
